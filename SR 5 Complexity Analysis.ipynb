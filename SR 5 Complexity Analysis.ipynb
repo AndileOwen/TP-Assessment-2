{
 "cells": [
  {
   "cell_type": "code",
   "execution_count": null,
   "id": "eb963077-3f99-4678-ac47-c16d341306d0",
   "metadata": {},
   "outputs": [],
   "source": [
    "#**Time and Space Complexity Analysis**\n",
    "\n",
    "Let's analyze the time and space complexity of the linear search function that was implemented.\n",
    "\n",
    "**Time Complexity:** O(n) in the worst case.\n",
    "\n",
    "* In the worst-case scenario, the target element might be located at the end of the list or not present at all. This necessitates iterating through the entire list (n elements) to make a decision, leading to a linear relationship between the search time and the data size (n).\n",
    "\n",
    "**Space Complexity:** O(1) or constant.\n",
    "\n",
    "* The linear search algorithm only utilizes a constant amount of extra space for variables like loop counters and the target element. This space complexity remains constant regardless of the data size.\n",
    "\n",
    "**Explanation:**\n",
    "\n",
    "- The linear search iterates through each element in the data list sequentially, comparing it with the target element.\n",
    "- In the best case (target element found at the beginning), the search terminates quickly. However, in the worst case (target element at the end or not present), all elements need to be compared, resulting in a linear time complexity.\n",
    "- The space complexity remains constant as the algorithm only uses a fixed amount of additional space for variables, independent of the data size.\n",
    "\n",
    "**Efficiency:**\n",
    "\n",
    "Linear search is a simple and easy-to-understand algorithm. However, its efficiency suffers for larger datasets due to the linear time complexity. As the data size grows, the search time increases proportionately, making it less suitable for large-scale searching tasks."
   ]
  }
 ],
 "metadata": {
  "kernelspec": {
   "display_name": "Python 3 (ipykernel)",
   "language": "python",
   "name": "python3"
  },
  "language_info": {
   "codemirror_mode": {
    "name": "ipython",
    "version": 3
   },
   "file_extension": ".py",
   "mimetype": "text/x-python",
   "name": "python",
   "nbconvert_exporter": "python",
   "pygments_lexer": "ipython3",
   "version": "3.12.2"
  }
 },
 "nbformat": 4,
 "nbformat_minor": 5
}
