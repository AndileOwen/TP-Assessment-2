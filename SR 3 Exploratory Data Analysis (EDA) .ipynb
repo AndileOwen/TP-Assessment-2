{
 "cells": [
  {
   "cell_type": "code",
   "execution_count": null,
   "id": "86b563a5-5fc8-413f-94f3-38ee9012103e",
   "metadata": {},
   "outputs": [],
   "source": [
    "def selection_sort(dataframe, column_name, ascending=True):\n",
    "  \n",
    "  df = dataframe.copy()  \n",
    "  for i in range(len(df)):\n",
    "    min_index = i\n",
    "    for j in range(i + 1, len(df)):\n",
    "      if ascending and df.loc[j, column_name] < df.loc[min_index, column_name]:\n",
    "        min_index = j\n",
    "      elif not ascending and df.loc[j, column_name] > df.loc[min_index, column_name]:\n",
    "        min_index = j\n",
    "    if min_index != i:\n",
    "      df.loc[i, column_name], df.loc[min_index, column_name] = df.loc[min_index, column_name], df.loc[i, column_name]\n",
    "  return df\n",
    "\n",
    "sorted_df = selection_sort(df.copy(), 'avg_hhsize')\n"
   ]
  }
 ],
 "metadata": {
  "kernelspec": {
   "display_name": "Python 3 (ipykernel)",
   "language": "python",
   "name": "python3"
  },
  "language_info": {
   "codemirror_mode": {
    "name": "ipython",
    "version": 3
   },
   "file_extension": ".py",
   "mimetype": "text/x-python",
   "name": "python",
   "nbconvert_exporter": "python",
   "pygments_lexer": "ipython3",
   "version": "3.12.2"
  }
 },
 "nbformat": 4,
 "nbformat_minor": 5
}
