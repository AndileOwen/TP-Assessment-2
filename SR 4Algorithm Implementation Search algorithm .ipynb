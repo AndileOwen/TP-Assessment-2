{
 "cells": [
  {
   "cell_type": "code",
   "execution_count": 8,
   "id": "76265088-4602-4a68-874b-904201d13cd1",
   "metadata": {},
   "outputs": [
    {
     "name": "stdout",
     "output_type": "stream",
     "text": [
      "Element 'Acacia Road' found at index 1 using linear search.\n",
      "Element 'Acacia Road' found at index 6 using binary search.\n"
     ]
    }
   ],
   "source": [
    "import pandas as pd\n",
    "\n",
    "data_path = 'Informal Settlement Matrix.csv.csv'\n",
    "\n",
    "\n",
    "df = pd.read_csv(data_path)\n",
    "\n",
    "target_element = 'Acacia Road'\n",
    "\n",
    "\n",
    "# 1. Linear Search\n",
    "def linear_search(data, target):\n",
    "  \n",
    "  for i, item in enumerate(data):\n",
    "    if item == target:\n",
    "      return i\n",
    "  return -1\n",
    "\n",
    "\n",
    "# 2. Binary Search (requires sorted data)\n",
    "def binary_search(data, target, low=0, high=None):\n",
    "\n",
    "  if high is None:\n",
    "    high = len(data) - 1\n",
    "  if low > high:\n",
    "    return -1\n",
    "  mid = (low + high) // 2\n",
    "  if data[mid] == target:\n",
    "    return mid\n",
    "  elif target < data[mid]:\n",
    "    return binary_search(data, target, low, mid - 1)\n",
    "  else:\n",
    "    return binary_search(data, target, mid + 1, high)\n",
    "\n",
    "\n",
    "# Search using linear search\n",
    "linear_search_result = linear_search(df['pocket_name'].tolist(), target_element)\n",
    "\n",
    "if linear_search_result != -1:\n",
    "  print(f\"Element '{target_element}' found at index {linear_search_result} using linear search.\")\n",
    "else:\n",
    "  print(f\"Element '{target_element}' not found using linear search.\")\n",
    "\n",
    "# Sort 'pocket_name' before binary search \n",
    "sorted_pocket_names = df['pocket_name'].tolist()\n",
    "sorted_pocket_names.sort()\n",
    "\n",
    "# Search using binary search\n",
    "binary_search_result = binary_search(sorted_pocket_names, target_element)\n",
    "\n",
    "if binary_search_result != -1:\n",
    "  print(f\"Element '{target_element}' found at index {binary_search_result} using binary search.\")\n",
    "else:\n",
    "  print(f\"Element '{target_element}' not found using binary search.\")"
   ]
  }
 ],
 "metadata": {
  "kernelspec": {
   "display_name": "Python 3 (ipykernel)",
   "language": "python",
   "name": "python3"
  },
  "language_info": {
   "codemirror_mode": {
    "name": "ipython",
    "version": 3
   },
   "file_extension": ".py",
   "mimetype": "text/x-python",
   "name": "python",
   "nbconvert_exporter": "python",
   "pygments_lexer": "ipython3",
   "version": "3.12.2"
  }
 },
 "nbformat": 4,
 "nbformat_minor": 5
}
