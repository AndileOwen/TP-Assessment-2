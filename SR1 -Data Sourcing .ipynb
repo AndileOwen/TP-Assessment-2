{
 "cells": [
  {
   "cell_type": "code",
   "execution_count": 11,
   "id": "cea2e514-b035-4160-a9ed-d363c83b73e9",
   "metadata": {},
   "outputs": [],
   "source": [
    "import pandas as pd\n",
    "\n",
    "df = pd.read_csv(\"Informal Settlement Matrix.csv.csv\")\n",
    "\n",
    "print(df.head())  \n",
    "\n",
    "print(df.dtypes)\n",
    "\n",
    "This dataset was found on [data.openup.org.za](https://data.openup.org.za), a South African data repository known for its credibility and focus on open data. \n",
    "\n",
    "**Suitability for Analysis:**\n",
    "\n",
    "This dataset appears suitable for analyzing informal settlements in South Africa based on the following factors:\n",
    "\n",
    "* **Relevance:** The dataset title \"Informal Settlement Matrix\" directly suggests information on informal settlements, potentially including location data and other relevant characteristics.\n",
    "* **Data Completeness:** While a full assessment requires examining the data itself, the presence of a \"matrix\" structure implies a potentially comprehensive collection of data points regarding informal settlements.\n",
    "\n",
    "**Justification Based on Columns**\n",
    "\n",
    "\n",
    "# 'is_cluster' column\n",
    "print(\"'is_cluster' column potentially indicates if the settlement is a cluster of informal settlements or a single location\")\n",
    "\n",
    "# 'pocket_name' column\n",
    "print(\"'pocket_name' column likely refers to the name of the informal settlement\")\n",
    "\n",
    "# Combined justification for suitability\n",
    "print(\"These two columns together suggest the dataset contains locations and names of informal settlements, making it suitable for further analysis based on your research goals.\")\n"
   ]
  },
  {
   "cell_type": "code",
   "execution_count": null,
   "id": "d071bbcc-4a54-4808-900d-9b537b3be9df",
   "metadata": {},
   "outputs": [],
   "source": []
  }
 ],
 "metadata": {
  "kernelspec": {
   "display_name": "Python 3 (ipykernel)",
   "language": "python",
   "name": "python3"
  },
  "language_info": {
   "codemirror_mode": {
    "name": "ipython",
    "version": 3
   },
   "file_extension": ".py",
   "mimetype": "text/x-python",
   "name": "python",
   "nbconvert_exporter": "python",
   "pygments_lexer": "ipython3",
   "version": "3.12.2"
  }
 },
 "nbformat": 4,
 "nbformat_minor": 5
}
